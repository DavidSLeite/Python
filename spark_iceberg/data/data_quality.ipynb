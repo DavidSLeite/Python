{
 "cells": [
  {
   "cell_type": "code",
   "execution_count": 1,
   "id": "469f0a7e-49ff-4e4a-acdb-b4081a98479d",
   "metadata": {},
   "outputs": [],
   "source": [
    "from pyspark.sql import types as T\n",
    "from pyspark.sql import functions as F\n",
    "from pyspark.sql import SparkSession"
   ]
  },
  {
   "cell_type": "code",
   "execution_count": 2,
   "id": "75ea05d3-bab4-4160-a19a-7cdd6f1a457f",
   "metadata": {},
   "outputs": [],
   "source": [
    "spark = SparkSession.builder.appName(\"DataFrameQuality\").getOrCreate()"
   ]
  },
  {
   "cell_type": "code",
   "execution_count": 85,
   "id": "4a2d955b-7ab1-4d02-98b7-f537bb1d42a3",
   "metadata": {},
   "outputs": [],
   "source": [
    "schema = T.StructType([\n",
    "    T.StructField(\"id\", T.LongType(), True),\n",
    "    T.StructField(\"nome\", T.StringType(), True),\n",
    "    T.StructField(\"idade\", T.IntegerType(), True),\n",
    "    T.StructField(\"salário\", T.DoubleType(), True),\n",
    "    T.StructField(\"endereco\", T.DoubleType(), True)\n",
    "])\n",
    "\n",
    "data = [\n",
    "    (1, \"João\", None, None, None),\n",
    "    (2, \"Maria\", None, None, None),\n",
    "    (3, None, 32, 4500.0, None),\n",
    "    (None, \"Pedro\", None, 6000.0, None),\n",
    "    (5, \"Ana\", None, 5500.0, None)\n",
    "]\n",
    "\n",
    "df = spark.createDataFrame(data, schema)"
   ]
  },
  {
   "cell_type": "code",
   "execution_count": 23,
   "id": "b90571b6-99d6-479e-b4eb-99e894433f90",
   "metadata": {},
   "outputs": [
    {
     "name": "stdout",
     "output_type": "stream",
     "text": [
      "+----+-----+-----+-------+--------+\n",
      "|  id| nome|idade|salário|endereco|\n",
      "+----+-----+-----+-------+--------+\n",
      "|   1| João| NULL|   NULL|    NULL|\n",
      "|   2|Maria| NULL|   NULL|    NULL|\n",
      "|   3| NULL|   32| 4500.0|    NULL|\n",
      "|NULL|Pedro| NULL| 6000.0|    NULL|\n",
      "|   5|  Ana| NULL| 5500.0|    NULL|\n",
      "+----+-----+-----+-------+--------+\n",
      "\n"
     ]
    }
   ],
   "source": [
    "df.show(5)"
   ]
  },
  {
   "cell_type": "code",
   "execution_count": 33,
   "id": "347e711b-818b-4736-bf02-eeb6813ab0a9",
   "metadata": {},
   "outputs": [],
   "source": [
    "df_null_counts = df.select([F.count(F.when(F.col(c).isNull(), c)).alias(f\"null_count_{c}\") for c in df.columns])"
   ]
  },
  {
   "cell_type": "code",
   "execution_count": 34,
   "id": "34516655-cded-4a33-9a16-e0942c89c286",
   "metadata": {},
   "outputs": [
    {
     "name": "stdout",
     "output_type": "stream",
     "text": [
      "+-------------+---------------+----------------+------------------+-------------------+\n",
      "|null_count_id|null_count_nome|null_count_idade|null_count_salário|null_count_endereco|\n",
      "+-------------+---------------+----------------+------------------+-------------------+\n",
      "|            1|              1|               4|                 2|                  5|\n",
      "+-------------+---------------+----------------+------------------+-------------------+\n",
      "\n"
     ]
    }
   ],
   "source": [
    "df_null_counts.show()"
   ]
  },
  {
   "cell_type": "code",
   "execution_count": 89,
   "id": "e16eb6b8-613f-429c-ab31-0786c474f52c",
   "metadata": {},
   "outputs": [
    {
     "name": "stdout",
     "output_type": "stream",
     "text": [
      "+---------------+-----------------+------------------+--------------------+---------------------+-------------+---------------+----------------+------------------+-------------------+\n",
      "|percent_null_id|percent_null_nome|percent_null_idade|percent_null_salário|percent_null_endereco|null_count_id|null_count_nome|null_count_idade|null_count_salário|null_count_endereco|\n",
      "+---------------+-----------------+------------------+--------------------+---------------------+-------------+---------------+----------------+------------------+-------------------+\n",
      "|            0.2|              0.2|               0.8|                 0.4|                  1.0|            1|              1|               4|                 2|                  5|\n",
      "+---------------+-----------------+------------------+--------------------+---------------------+-------------+---------------+----------------+------------------+-------------------+\n",
      "\n"
     ]
    }
   ],
   "source": [
    "total_rows = df.count()\n",
    "\n",
    "df_null_counts.select(*[(F.col(c) / F.lit(total_rows)).alias(c.replace('null_count', 'percent_null')) for c in df_null_counts.columns], \"*\").show()"
   ]
  },
  {
   "cell_type": "code",
   "execution_count": 88,
   "id": "122a5f85-6792-441b-b692-cf5985d0ea7f",
   "metadata": {},
   "outputs": [
    {
     "name": "stdout",
     "output_type": "stream",
     "text": [
      "+--------------+----------------+-----------------+-------------------+--------------------+------------+--------------+---------------+-----------------+------------------+\n",
      "|PercentNull_id|PercentNull_nome|PercentNull_idade|PercentNull_salário|PercentNull_endereco|NullCount_id|NullCount_nome|NullCount_idade|NullCount_salário|NullCount_endereco|\n",
      "+--------------+----------------+-----------------+-------------------+--------------------+------------+--------------+---------------+-----------------+------------------+\n",
      "|          20.0|            20.0|             80.0|               40.0|               100.0|           1|             1|              4|                2|                 5|\n",
      "+--------------+----------------+-----------------+-------------------+--------------------+------------+--------------+---------------+-----------------+------------------+\n",
      "\n"
     ]
    }
   ],
   "source": [
    "def quality_df(df):\n",
    "    null = 'NullCount_'\n",
    "    df_null_counts = df.select([F.count(F.when(F.col(c).isNull(), c)).alias(f\"{null}{c}\") for c in df.columns])\n",
    "    df_null_percent = df_null_counts.select(*[(F.col(c) / F.lit(total_rows)*100).alias(c.replace(null, 'PercentNull_')) for c in df_null_counts.columns], \"*\")\n",
    "    return df_null_percent\n",
    "\n",
    "df_q = quality_df(df)\n",
    "df_q.show()"
   ]
  }
 ],
 "metadata": {
  "kernelspec": {
   "display_name": "Python 3 (ipykernel)",
   "language": "python",
   "name": "python3"
  },
  "language_info": {
   "codemirror_mode": {
    "name": "ipython",
    "version": 3
   },
   "file_extension": ".py",
   "mimetype": "text/x-python",
   "name": "python",
   "nbconvert_exporter": "python",
   "pygments_lexer": "ipython3",
   "version": "3.11.6"
  }
 },
 "nbformat": 4,
 "nbformat_minor": 5
}
