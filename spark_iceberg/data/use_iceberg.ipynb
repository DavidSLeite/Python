{
 "cells": [
  {
   "cell_type": "code",
   "execution_count": 10,
   "id": "19536960-bf7e-4bed-ad60-2700602942bd",
   "metadata": {},
   "outputs": [],
   "source": [
    "from pyspark.sql import SparkSession\n",
    "from pyspark.sql import types as T\n",
    "\n",
    "# Inicializa a sessão Spark com o Iceberg configurado\n",
    "spark = (\n",
    "    SparkSession.builder\n",
    "    .appName(\"IcebergExample\")\n",
    "    .config(\"spark.sql.catalog.local\", \"org.apache.iceberg.spark.SparkCatalog\")\n",
    "    .config(\"spark.sql.catalog.local.type\", \"hadoop\")\n",
    "    .config(\"spark.sql.catalog.local.warehouse\", \"work/warehouse\")  # Defina o diretório de warehouse\n",
    "    .getOrCreate()\n",
    ")\n",
    "\n"
   ]
  },
  {
   "cell_type": "code",
   "execution_count": 11,
   "id": "9fe05775-209e-49b2-acb7-01f8a9f53a83",
   "metadata": {},
   "outputs": [],
   "source": [
    "# Cria um exemplo de DataFrame\n",
    "schema = T.StructType([\n",
    "    T.StructField(\"id\", T.IntegerType(), nullable=False),\n",
    "    T.StructField(\"name\", T.StringType(), nullable=False)\n",
    "])\n",
    "\n",
    "data = [(4, \"Alice\"), (5, \"Bob\"), (6, \"Charlie\")]\n",
    "df = spark.createDataFrame(data, schema)"
   ]
  },
  {
   "cell_type": "code",
   "execution_count": 12,
   "id": "1480bbd3-69ef-428a-8764-888e80cb7fcb",
   "metadata": {},
   "outputs": [],
   "source": [
    "# Define o namespace e o nome da tabela no Iceberg\n",
    "namespace = \"default\"\n",
    "table_name = \"people\"\n",
    "\n",
    "# Cria a tabela Iceberg (se não existir) e grava o DataFrame nela\n",
    "spark.sql(f\"CREATE TABLE IF NOT EXISTS local.{namespace}.{table_name} (id INT, name STRING) USING iceberg\")\n",
    "df.writeTo(f\"local.{namespace}.{table_name}\").append()"
   ]
  },
  {
   "cell_type": "code",
   "execution_count": 14,
   "id": "85501772-223f-4732-9eb0-70611c28eeb0",
   "metadata": {},
   "outputs": [
    {
     "name": "stdout",
     "output_type": "stream",
     "text": [
      "+---+-------+\n",
      "| id|   name|\n",
      "+---+-------+\n",
      "|  1|  Juana|\n",
      "|  2|    Bob|\n",
      "|  3|Charlie|\n",
      "|  4|  Alice|\n",
      "|  5|    Bob|\n",
      "|  6|Charlie|\n",
      "+---+-------+\n",
      "\n"
     ]
    }
   ],
   "source": [
    "# Verifica o conteúdo da tabela Iceberg\n",
    "spark.sql(f\"\"\"\n",
    "SELECT * \n",
    "FROM local.{namespace}.{table_name}\n",
    "order by id\n",
    "\"\"\").show()"
   ]
  },
  {
   "cell_type": "code",
   "execution_count": 15,
   "id": "7e956a6e-b5cd-44fe-8b55-edcc400092cd",
   "metadata": {},
   "outputs": [
    {
     "data": {
      "text/plain": [
       "DataFrame[]"
      ]
     },
     "execution_count": 15,
     "metadata": {},
     "output_type": "execute_result"
    }
   ],
   "source": [
    "spark.sql(f\"\"\"\n",
    "update local.{namespace}.{table_name}\n",
    "set name = 'Marcia'\n",
    "where id = 1\n",
    "\"\"\")"
   ]
  },
  {
   "cell_type": "code",
   "execution_count": 16,
   "id": "d26704bd-94f1-4851-91f1-67dc86d8c8d9",
   "metadata": {},
   "outputs": [
    {
     "name": "stdout",
     "output_type": "stream",
     "text": [
      "+---+------+\n",
      "| id|  name|\n",
      "+---+------+\n",
      "|  1|Marcia|\n",
      "+---+------+\n",
      "\n"
     ]
    }
   ],
   "source": [
    "spark.sql(f\"\"\"\n",
    "SELECT * \n",
    "FROM local.{namespace}.{table_name}\n",
    "where id = 1\n",
    "\"\"\").show()"
   ]
  }
 ],
 "metadata": {
  "kernelspec": {
   "display_name": "Python 3 (ipykernel)",
   "language": "python",
   "name": "python3"
  },
  "language_info": {
   "codemirror_mode": {
    "name": "ipython",
    "version": 3
   },
   "file_extension": ".py",
   "mimetype": "text/x-python",
   "name": "python",
   "nbconvert_exporter": "python",
   "pygments_lexer": "ipython3",
   "version": "3.11.6"
  }
 },
 "nbformat": 4,
 "nbformat_minor": 5
}
