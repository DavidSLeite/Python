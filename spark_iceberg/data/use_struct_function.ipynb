{
 "cells": [
  {
   "cell_type": "code",
   "execution_count": 1,
   "id": "c4e9e8bf-be73-472c-ad0c-9ef12bbfc6bd",
   "metadata": {},
   "outputs": [],
   "source": [
    "from pyspark.sql import SparkSession, DataFrame\n",
    "from pyspark.sql import functions as F\n",
    "from pyspark.sql import types as T"
   ]
  },
  {
   "cell_type": "code",
   "execution_count": 2,
   "id": "0679e9c5-387c-4981-9f24-341db2167b1d",
   "metadata": {},
   "outputs": [],
   "source": [
    "spark = (\n",
    "    SparkSession.builder\n",
    "    .master(\"local\")\n",
    "    .appName(\"sparklocals\")\n",
    "    .getOrCreate()\n",
    ")"
   ]
  },
  {
   "cell_type": "code",
   "execution_count": 26,
   "id": "0f2e726d-9855-4714-8827-7f5fa8379ec0",
   "metadata": {},
   "outputs": [
    {
     "name": "stdout",
     "output_type": "stream",
     "text": [
      "+----------+---------+---+\n",
      "|first_name|last_name|age|\n",
      "+----------+---------+---+\n",
      "|      John|      Doe| 30|\n",
      "|      Jane|    Smith| 25|\n",
      "+----------+---------+---+\n",
      "\n"
     ]
    }
   ],
   "source": [
    "data = [(\"John\", \"Doe\", 30), (\"Jane\", \"Smith\", 25)]\n",
    "df = spark.createDataFrame(data, [\"first_name\", \"last_name\", \"age\"])\n",
    "\n",
    "df.show(5)"
   ]
  },
  {
   "cell_type": "code",
   "execution_count": 38,
   "id": "67468c6a-c5a2-41c3-89e3-c144a96dd72c",
   "metadata": {},
   "outputs": [
    {
     "data": {
      "text/plain": [
       "[Column<'CAST(first_name AS STRING) AS first_name'>,\n",
       " Column<'CAST(age AS STRING) AS age'>]"
      ]
     },
     "execution_count": 38,
     "metadata": {},
     "output_type": "execute_result"
    }
   ],
   "source": [
    "list_ = [\"first_name\", \"age\"]\n",
    "a = []\n",
    "for i in list_:\n",
    "    a.append(F.col(i).cast(\"string\").alias(i))\n",
    "a"
   ]
  },
  {
   "cell_type": "code",
   "execution_count": 40,
   "id": "1906cb23-67ea-43ea-8a4b-ac663a406afb",
   "metadata": {},
   "outputs": [
    {
     "name": "stdout",
     "output_type": "stream",
     "text": [
      "root\n",
      " |-- first_name: string (nullable = true)\n",
      " |-- last_name: string (nullable = true)\n",
      " |-- age: long (nullable = true)\n",
      " |-- full_name: struct (nullable = false)\n",
      " |    |-- first_name: string (nullable = true)\n",
      " |    |-- age: string (nullable = true)\n",
      "\n",
      "+----+----------+---------+---+----------+\n",
      "|NOME|first_name|last_name|age|full_name |\n",
      "+----+----------+---------+---+----------+\n",
      "|John|John      |Doe      |30 |{John, 30}|\n",
      "|Jane|Jane      |Smith    |25 |{Jane, 25}|\n",
      "+----+----------+---------+---+----------+\n",
      "\n"
     ]
    }
   ],
   "source": [
    "df_with_struct = df.withColumn(\"full_name\", F.struct(*a))\n",
    "\n",
    "df_with_struct.printSchema()\n",
    "df_with_struct.select(F.col(\"full_name.first_name\").alias(\"NOME\"), \"*\").show(truncate=False)"
   ]
  }
 ],
 "metadata": {
  "kernelspec": {
   "display_name": "Python 3 (ipykernel)",
   "language": "python",
   "name": "python3"
  },
  "language_info": {
   "codemirror_mode": {
    "name": "ipython",
    "version": 3
   },
   "file_extension": ".py",
   "mimetype": "text/x-python",
   "name": "python",
   "nbconvert_exporter": "python",
   "pygments_lexer": "ipython3",
   "version": "3.11.6"
  }
 },
 "nbformat": 4,
 "nbformat_minor": 5
}
