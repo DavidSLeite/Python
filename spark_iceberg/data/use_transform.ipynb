{
 "cells": [
  {
   "cell_type": "code",
   "execution_count": 1,
   "id": "b189d146-2d89-4148-b094-7e5a8068d5de",
   "metadata": {},
   "outputs": [],
   "source": [
    "from pyspark.sql import types as T\n",
    "from pyspark.sql import functions as F\n",
    "from pyspark.sql import SparkSession\n",
    "from datetime import datetime, timedelta\n",
    "import random\n",
    "import json"
   ]
  },
  {
   "cell_type": "code",
   "execution_count": 2,
   "id": "4dd9c747-79be-4e25-af84-865121b0f13f",
   "metadata": {},
   "outputs": [],
   "source": [
    "spark = SparkSession.builder.appName(\"DataFrameComJson\").getOrCreate()\n",
    "\n",
    "schema = T.StructType([\n",
    "    T.StructField(\"id\", T.IntegerType(), nullable=False),\n",
    "    T.StructField(\"data_processamento\", T.TimestampType(), nullable=False),\n",
    "    T.StructField(\"nome_cliente\", T.StringType(), nullable=False),\n",
    "    T.StructField(\"sobrenome\", T.StringType(), nullable=False),\n",
    "])\n",
    "\n",
    "data = [\n",
    "    (\n",
    "        i,\n",
    "        datetime.now() - timedelta(days=random.randint(0, 30)),\n",
    "        '  maria  ',\n",
    "        '  Santos  '\n",
    "    )\n",
    "    for i in range(1, 10)\n",
    "]\n",
    "\n",
    "df = spark.createDataFrame(data, schema=schema)"
   ]
  },
  {
   "cell_type": "code",
   "execution_count": 3,
   "id": "4a414ed7-2d93-4c4a-9bbd-f0b44f54acbf",
   "metadata": {},
   "outputs": [
    {
     "name": "stdout",
     "output_type": "stream",
     "text": [
      "+---+--------------------------+------------+----------+\n",
      "|id |data_processamento        |nome_cliente|sobrenome |\n",
      "+---+--------------------------+------------+----------+\n",
      "|1  |2025-05-19 11:56:03.373139|  maria     |  Santos  |\n",
      "|2  |2025-05-02 11:56:03.373163|  maria     |  Santos  |\n",
      "|3  |2025-05-03 11:56:03.373166|  maria     |  Santos  |\n",
      "|4  |2025-05-15 11:56:03.373168|  maria     |  Santos  |\n",
      "|5  |2025-05-01 11:56:03.37317 |  maria     |  Santos  |\n",
      "+---+--------------------------+------------+----------+\n",
      "only showing top 5 rows\n",
      "\n"
     ]
    }
   ],
   "source": [
    "df.show(5, False)"
   ]
  },
  {
   "cell_type": "code",
   "execution_count": 4,
   "id": "cd3ab0b1-d24f-430f-ad88-a96c696b03fc",
   "metadata": {},
   "outputs": [],
   "source": [
    "def add_columns(df, columns_add):\n",
    "    return df.withColumns(columns_add)"
   ]
  },
  {
   "cell_type": "code",
   "execution_count": 5,
   "id": "ac33a3ac-1807-43f0-8eb6-d2c181b57f47",
   "metadata": {},
   "outputs": [],
   "source": [
    "col_to_trim = {\n",
    "    \"nome_cliente_trim\": F.trim(F.col(\"nome_cliente\"))\n",
    "}\n",
    "\n",
    "col_to_upper = {\n",
    "    \"nome_cliente_upper\": F.upper(F.col(\"nome_cliente\"))\n",
    "}\n",
    "\n",
    "col_to_upper_trim = {\n",
    "    \"nome_cliente_upper_trim\": F.trim(F.upper(F.col(\"nome_cliente\")))\n",
    "}"
   ]
  },
  {
   "cell_type": "code",
   "execution_count": 6,
   "id": "15a1c51d-c4d7-432e-adcc-a8f17dbc0f3c",
   "metadata": {},
   "outputs": [],
   "source": [
    "df_f = (\n",
    "    df.transform(add_columns, col_to_trim)\n",
    "    .transform(add_columns, col_to_upper)\n",
    "    .transform(add_columns, col_to_upper_trim)\n",
    ")\n",
    "\n",
    "df_f = df_f.withColumn('cont_chars_nome_cliente_upper', F.length(F.col('nome_cliente_upper')))\n",
    "df_f = df_f.withColumn('cont_chars_nome_cliente_trim', F.length(F.col('nome_cliente_trim')))\n",
    "df_f = df_f.withColumn('cont_chars_nome_cliente_upper_trim', F.length(F.col('nome_cliente_upper_trim')))"
   ]
  },
  {
   "cell_type": "code",
   "execution_count": 7,
   "id": "f6b8d69f-5dd1-4373-b652-e80a521c7812",
   "metadata": {},
   "outputs": [
    {
     "name": "stdout",
     "output_type": "stream",
     "text": [
      "+---+------------+-----------------------------+-----------------+----------------------------+-----------------------+----------------------------------+\n",
      "| id|nome_cliente|cont_chars_nome_cliente_upper|nome_cliente_trim|cont_chars_nome_cliente_trim|nome_cliente_upper_trim|cont_chars_nome_cliente_upper_trim|\n",
      "+---+------------+-----------------------------+-----------------+----------------------------+-----------------------+----------------------------------+\n",
      "|  1|     maria  |                            9|            maria|                           5|                  MARIA|                                 5|\n",
      "|  2|     maria  |                            9|            maria|                           5|                  MARIA|                                 5|\n",
      "|  3|     maria  |                            9|            maria|                           5|                  MARIA|                                 5|\n",
      "|  4|     maria  |                            9|            maria|                           5|                  MARIA|                                 5|\n",
      "|  5|     maria  |                            9|            maria|                           5|                  MARIA|                                 5|\n",
      "|  6|     maria  |                            9|            maria|                           5|                  MARIA|                                 5|\n",
      "|  7|     maria  |                            9|            maria|                           5|                  MARIA|                                 5|\n",
      "|  8|     maria  |                            9|            maria|                           5|                  MARIA|                                 5|\n",
      "|  9|     maria  |                            9|            maria|                           5|                  MARIA|                                 5|\n",
      "+---+------------+-----------------------------+-----------------+----------------------------+-----------------------+----------------------------------+\n",
      "\n"
     ]
    }
   ],
   "source": [
    "(\n",
    "    df_f\n",
    "    .select(\n",
    "        'id',\n",
    "        'nome_cliente',\n",
    "        'cont_chars_nome_cliente_upper',\n",
    "        'nome_cliente_trim',\n",
    "        'cont_chars_nome_cliente_trim',\n",
    "        'nome_cliente_upper_trim',\n",
    "        'cont_chars_nome_cliente_upper_trim'\n",
    "    )\n",
    "    .show()\n",
    ")"
   ]
  },
  {
   "cell_type": "code",
   "execution_count": 8,
   "id": "7ae0591e-8cac-41b1-96e5-f5e279e25752",
   "metadata": {},
   "outputs": [
    {
     "name": "stdout",
     "output_type": "stream",
     "text": [
      "+---+--------------------+------------+----------+------------------+---------------+\n",
      "| id|  data_processamento|nome_cliente| sobrenome|nome_cliente_upper|sobrenome_upper|\n",
      "+---+--------------------+------------+----------+------------------+---------------+\n",
      "|  1|2025-05-19 11:56:...|     maria  |  Santos  |           MARIA  |       SANTOS  |\n",
      "|  2|2025-05-02 11:56:...|     maria  |  Santos  |           MARIA  |       SANTOS  |\n",
      "|  3|2025-05-03 11:56:...|     maria  |  Santos  |           MARIA  |       SANTOS  |\n",
      "|  4|2025-05-15 11:56:...|     maria  |  Santos  |           MARIA  |       SANTOS  |\n",
      "|  5|2025-05-01 11:56:...|     maria  |  Santos  |           MARIA  |       SANTOS  |\n",
      "|  6|2025-05-10 11:56:...|     maria  |  Santos  |           MARIA  |       SANTOS  |\n",
      "|  7|2025-05-16 11:56:...|     maria  |  Santos  |           MARIA  |       SANTOS  |\n",
      "|  8|2025-05-11 11:56:...|     maria  |  Santos  |           MARIA  |       SANTOS  |\n",
      "|  9|2025-05-10 11:56:...|     maria  |  Santos  |           MARIA  |       SANTOS  |\n",
      "+---+--------------------+------------+----------+------------------+---------------+\n",
      "\n"
     ]
    }
   ],
   "source": [
    "# withColumns\n",
    "col_to_trim = {\n",
    "    \"nome_cliente_upper\": F.upper(F.col(\"nome_cliente\")),\n",
    "    \"sobrenome_upper\": F.upper(F.col(\"sobrenome\"))\n",
    "}\n",
    "\n",
    "dd = df.withColumns(col_to_trim)\n",
    "dd.show()"
   ]
  }
 ],
 "metadata": {
  "kernelspec": {
   "display_name": "Python 3 (ipykernel)",
   "language": "python",
   "name": "python3"
  },
  "language_info": {
   "codemirror_mode": {
    "name": "ipython",
    "version": 3
   },
   "file_extension": ".py",
   "mimetype": "text/x-python",
   "name": "python",
   "nbconvert_exporter": "python",
   "pygments_lexer": "ipython3",
   "version": "3.11.6"
  }
 },
 "nbformat": 4,
 "nbformat_minor": 5
}
