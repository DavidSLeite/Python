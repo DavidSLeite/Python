{
 "cells": [
  {
   "cell_type": "code",
   "execution_count": 93,
   "id": "4b6e6e53-2009-4235-8b46-e85368c9d772",
   "metadata": {},
   "outputs": [],
   "source": [
    "from pyspark.sql import types as T\n",
    "from pyspark.sql import functions as F\n",
    "from pyspark.sql import SparkSession"
   ]
  },
  {
   "cell_type": "code",
   "execution_count": 2,
   "id": "54ddf8e2-a344-4700-8559-48c3d113f217",
   "metadata": {},
   "outputs": [],
   "source": [
    "spark = SparkSession.builder.appName(\"DataFrameComJson\").getOrCreate()"
   ]
  },
  {
   "cell_type": "code",
   "execution_count": 94,
   "id": "d515ab19-a750-47bd-ad0d-36fb481bc6a1",
   "metadata": {},
   "outputs": [],
   "source": [
    "data = [\n",
    "    (1, {\"201\": \"João\", \"202\": \"30\"}),\n",
    "    (2, {\"201\": \"Maria\", \"202\": \"25\", \"203\": \"23\"})\n",
    "]\n",
    "schema = \"id INT, info STRUCT<`201`: STRING, `202`: STRING, `203`: STRING>\"\n",
    "df = spark.createDataFrame(data, schema)"
   ]
  },
  {
   "cell_type": "code",
   "execution_count": 95,
   "id": "4020e5cf-8364-4226-9179-ea0e6d8f626b",
   "metadata": {},
   "outputs": [
    {
     "name": "stdout",
     "output_type": "stream",
     "text": [
      "+---+----------------+\n",
      "| id|            info|\n",
      "+---+----------------+\n",
      "|  1|{João, 30, NULL}|\n",
      "|  2| {Maria, 25, 23}|\n",
      "+---+----------------+\n",
      "\n"
     ]
    }
   ],
   "source": [
    "df.show()"
   ]
  },
  {
   "cell_type": "code",
   "execution_count": 96,
   "id": "5d982c53-bc55-4aa8-a11b-d64fdee50bc3",
   "metadata": {},
   "outputs": [
    {
     "name": "stdout",
     "output_type": "stream",
     "text": [
      "root\n",
      " |-- id: integer (nullable = true)\n",
      " |-- info: struct (nullable = true)\n",
      " |    |-- 201: string (nullable = true)\n",
      " |    |-- 202: string (nullable = true)\n",
      " |    |-- 203: string (nullable = true)\n",
      "\n"
     ]
    }
   ],
   "source": [
    "df.printSchema()"
   ]
  },
  {
   "cell_type": "code",
   "execution_count": 97,
   "id": "4a5ab742-a485-4b94-a296-ca57bc02e369",
   "metadata": {},
   "outputs": [
    {
     "name": "stdout",
     "output_type": "stream",
     "text": [
      "Column<'map(201, info.201, 202, info.202, 203, info.203)'>\n"
     ]
    }
   ],
   "source": [
    "map_expr = F.create_map(\n",
    "    F.lit(\"201\"), F.col(\"info.201\"),\n",
    "    F.lit(\"202\"), F.col(\"info.202\"),\n",
    "    F.lit(\"203\"), F.col(\"info.203\"),\n",
    ")\n",
    "print(map_expr)"
   ]
  },
  {
   "cell_type": "code",
   "execution_count": 98,
   "id": "9c2c7fd9-e844-4a86-b66f-abcad25cd7bb",
   "metadata": {},
   "outputs": [
    {
     "name": "stdout",
     "output_type": "stream",
     "text": [
      "+---+----------------+-------------------------------------+\n",
      "|id |info            |info_map                             |\n",
      "+---+----------------+-------------------------------------+\n",
      "|1  |{João, 30, NULL}|{201 -> João, 202 -> 30, 203 -> NULL}|\n",
      "|2  |{Maria, 25, 23} |{201 -> Maria, 202 -> 25, 203 -> 23} |\n",
      "+---+----------------+-------------------------------------+\n",
      "\n"
     ]
    }
   ],
   "source": [
    "df_with_map = df.withColumn(\"info_map\", map_expr)\n",
    "\n",
    "# Mostrar resultado\n",
    "df_with_map.show(truncate=False)"
   ]
  },
  {
   "cell_type": "code",
   "execution_count": 99,
   "id": "f4df3327-60e7-4ba9-8a03-a18e92783c83",
   "metadata": {},
   "outputs": [
    {
     "name": "stdout",
     "output_type": "stream",
     "text": [
      "Column<'map(201, info.201, 202, info.202, 203, info.203)'>\n"
     ]
    }
   ],
   "source": [
    "list_ = df.schema[\"info\"].dataType.fieldNames()\n",
    "\n",
    "map_expr = F.create_map(*[elem for k in list_ for elem in (F.lit(k), F.col(f\"info.{k}\"))])\n",
    "\n",
    "print(map_expr)"
   ]
  },
  {
   "cell_type": "code",
   "execution_count": 102,
   "id": "3d84476a-0ac0-40de-b062-5d8ca1601bc3",
   "metadata": {},
   "outputs": [
    {
     "name": "stdout",
     "output_type": "stream",
     "text": [
      "+---+----------------+-------------------------------------+\n",
      "|id |info            |info_map                             |\n",
      "+---+----------------+-------------------------------------+\n",
      "|1  |{João, 30, NULL}|{201 -> João, 202 -> 30, 203 -> NULL}|\n",
      "|2  |{Maria, 25, 23} |{201 -> Maria, 202 -> 25, 203 -> 23} |\n",
      "+---+----------------+-------------------------------------+\n",
      "\n"
     ]
    }
   ],
   "source": [
    "def create_map_dynamic(df):\n",
    "    list_ = df.schema[\"info\"].dataType.fieldNames()\n",
    "    map_expr = F.create_map(*[elem for k in list_ for elem in (F.lit(k), F.col(f\"info.{k}\"))])\n",
    "    df_with_map = df.withColumn(\"info_map\", map_expr)\n",
    "    return df_with_map\n",
    "\n",
    "df2 = create_map_dynamic(df)\n",
    "\n",
    "df2.show(truncate=False)"
   ]
  }
 ],
 "metadata": {
  "kernelspec": {
   "display_name": "Python 3 (ipykernel)",
   "language": "python",
   "name": "python3"
  },
  "language_info": {
   "codemirror_mode": {
    "name": "ipython",
    "version": 3
   },
   "file_extension": ".py",
   "mimetype": "text/x-python",
   "name": "python",
   "nbconvert_exporter": "python",
   "pygments_lexer": "ipython3",
   "version": "3.11.6"
  }
 },
 "nbformat": 4,
 "nbformat_minor": 5
}
