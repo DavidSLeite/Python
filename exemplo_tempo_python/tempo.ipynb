{
 "cells": [
  {
   "attachments": {},
   "cell_type": "markdown",
   "metadata": {},
   "source": [
    "# Principais Classes\n",
    " - **datetime.date** - submódulo dedicado para datas\n",
    " - **datetime.time** - submódulo dedicado para tempo\n",
    " - **datetime.datetime** - submódulo dedicado para data e hora\n",
    " - **datetime.timedelta** - bastante usado para calcular diferença entre períodos"
   ]
  },
  {
   "cell_type": "code",
   "execution_count": 25,
   "metadata": {},
   "outputs": [],
   "source": [
    "import datetime"
   ]
  },
  {
   "attachments": {},
   "cell_type": "markdown",
   "metadata": {},
   "source": [
    "# Usando datetime.date()"
   ]
  },
  {
   "cell_type": "code",
   "execution_count": 26,
   "metadata": {},
   "outputs": [
    {
     "name": "stdout",
     "output_type": "stream",
     "text": [
      "2021-04-10\n",
      "<class 'datetime.date'>\n"
     ]
    }
   ],
   "source": [
    "varData = datetime.date(2021, 4, 10)\n",
    "\n",
    "#print da data\n",
    "print(varData)\n",
    "\n",
    "#print tipo da variável\n",
    "print(type(varData))"
   ]
  },
  {
   "cell_type": "code",
   "execution_count": 27,
   "metadata": {},
   "outputs": [
    {
     "name": "stdout",
     "output_type": "stream",
     "text": [
      "Sat Apr 10 00:00:00 2021\n"
     ]
    }
   ],
   "source": [
    "## Alterando formatação de data\n",
    "# ctime()\n",
    "\n",
    "print(varData.ctime())"
   ]
  },
  {
   "cell_type": "code",
   "execution_count": 28,
   "metadata": {},
   "outputs": [
    {
     "name": "stdout",
     "output_type": "stream",
     "text": [
      "10 4 2021\n"
     ]
    }
   ],
   "source": [
    "#Extraindo partes de uma data\n",
    "dia = varData.day\n",
    "mes = varData.month\n",
    "ano = varData.year\n",
    "\n",
    "print(dia, mes, ano)"
   ]
  },
  {
   "cell_type": "code",
   "execution_count": 29,
   "metadata": {},
   "outputs": [
    {
     "name": "stdout",
     "output_type": "stream",
     "text": [
      "1994-08-27\n"
     ]
    }
   ],
   "source": [
    "#Alterando data\n",
    "novaData = varData.replace(day=27)\\\n",
    "    .replace(month=8)\\\n",
    "    .replace(year=1994)\n",
    "\n",
    "print(novaData)"
   ]
  },
  {
   "cell_type": "code",
   "execution_count": 30,
   "metadata": {},
   "outputs": [
    {
     "name": "stdout",
     "output_type": "stream",
     "text": [
      "2023-01-06 22:50:33.001379\n",
      "2023-01-06\n"
     ]
    }
   ],
   "source": [
    "#Pegando a data atual\n",
    "\n",
    "hojeDatahora = datetime.datetime.today()\n",
    "hoje = datetime.date.today()\n",
    "\n",
    "print(hojeDatahora)\n",
    "print(hoje)"
   ]
  },
  {
   "cell_type": "code",
   "execution_count": 31,
   "metadata": {},
   "outputs": [
    {
     "name": "stdout",
     "output_type": "stream",
     "text": [
      "9723 days, 0:00:00\n",
      "<class 'datetime.timedelta'>\n"
     ]
    }
   ],
   "source": [
    "#Diferença entre datas (a var dataDif virou uma classe)\n",
    "dataDif = varData - novaData\n",
    "\n",
    "print(dataDif)\n",
    "print(type(dataDif))"
   ]
  },
  {
   "cell_type": "code",
   "execution_count": 32,
   "metadata": {},
   "outputs": [
    {
     "name": "stdout",
     "output_type": "stream",
     "text": [
      "2023-01-16\n"
     ]
    }
   ],
   "source": [
    "#adicionando tempo na data\n",
    "\n",
    "datafuturo = hoje + datetime.timedelta(days=10)\n",
    "\n",
    "print(datafuturo)"
   ]
  },
  {
   "cell_type": "code",
   "execution_count": 33,
   "metadata": {},
   "outputs": [
    {
     "name": "stdout",
     "output_type": "stream",
     "text": [
      "2023-01-06 22:50:33.307376\n",
      "2023-01-06 22:50:33.307375\n"
     ]
    }
   ],
   "source": [
    "# pegar data e hora atual com today ou now\n",
    "\n",
    "print(datetime.datetime.today())\n",
    "print(datetime.datetime.now())"
   ]
  },
  {
   "cell_type": "code",
   "execution_count": 34,
   "metadata": {},
   "outputs": [
    {
     "name": "stdout",
     "output_type": "stream",
     "text": [
      "22 50 33\n"
     ]
    }
   ],
   "source": [
    "# extraindo hora minuto e segundo da hora de uma datetime\n",
    "dataHora = datetime.datetime.now()\n",
    "horas = dataHora.hour\n",
    "minutos = dataHora.minute\n",
    "segundos = dataHora.second\n",
    "\n",
    "print(horas, minutos, segundos)"
   ]
  },
  {
   "cell_type": "code",
   "execution_count": 35,
   "metadata": {},
   "outputs": [
    {
     "name": "stdout",
     "output_type": "stream",
     "text": [
      "2022-05-06 15:52:25\n",
      "<class 'str'>\n"
     ]
    }
   ],
   "source": [
    "# converter datetime para string\n",
    "#https://docs.python.org/3/library/datetime.html\n",
    "\n",
    "dataHora = datetime.datetime(year=2022, month=5, day=6, hour=15, minute=52, second=25)\n",
    "\n",
    "data_string = dataHora.strftime('%Y-%m-%d %H:%M:%S')\n",
    "\n",
    "print(data_string)\n",
    "print(type(data_string))"
   ]
  },
  {
   "cell_type": "code",
   "execution_count": 36,
   "metadata": {},
   "outputs": [
    {
     "name": "stdout",
     "output_type": "stream",
     "text": [
      "2022-05-06 15:52:25\n",
      "<class 'datetime.datetime'>\n"
     ]
    }
   ],
   "source": [
    "#converte texto para datetime\n",
    "\n",
    "data_formato_datetime = datetime.datetime.strptime(data_string, '%Y-%m-%d %H:%M:%S')\n",
    "\n",
    "print(data_formato_datetime)\n",
    "print(type(data_formato_datetime))"
   ]
  }
 ],
 "metadata": {
  "kernelspec": {
   "display_name": "base",
   "language": "python",
   "name": "python3"
  },
  "language_info": {
   "codemirror_mode": {
    "name": "ipython",
    "version": 3
   },
   "file_extension": ".py",
   "mimetype": "text/x-python",
   "name": "python",
   "nbconvert_exporter": "python",
   "pygments_lexer": "ipython3",
   "version": "3.9.7"
  },
  "orig_nbformat": 4,
  "vscode": {
   "interpreter": {
    "hash": "e4cce46d6be9934fbd27f9ca0432556941ea5bdf741d4f4d64c6cd7f8dfa8fba"
   }
  }
 },
 "nbformat": 4,
 "nbformat_minor": 2
}
