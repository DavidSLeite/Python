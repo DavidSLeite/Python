{
 "cells": [
  {
   "cell_type": "code",
   "execution_count": 49,
   "id": "1f2727fe-12f5-4ead-9900-c139c8104646",
   "metadata": {},
   "outputs": [],
   "source": [
    "from pyspark.sql import types as T\n",
    "from pyspark.sql import functions as F\n",
    "\n",
    "def get_spark_type(data_type: str):\n",
    "    dict_type = {\n",
    "        'int': T.IntegerType(),\n",
    "        'string': T.StringType(),\n",
    "        'struct': T.StringType(),\n",
    "        'boolean': T.BooleanType(),\n",
    "        'double': T.DoubleType(),\n",
    "        'timestamp': T.TimestampType(),\n",
    "        'date': T.DateType(),\n",
    "        'array': T.ArrayType(T.StringType()),\n",
    "    }\n",
    "    return dict_type[data_type]\n",
    "\n",
    "def create_schema(fields: list):\n",
    "    schema_dict = {}\n",
    "\n",
    "    for field, data_type in fields:\n",
    "        parts = field.split(\".\")\n",
    "        current_level = schema_dict\n",
    "\n",
    "        for part in parts[:-1]:\n",
    "            if part not in current_level:\n",
    "                current_level[part] = {}\n",
    "            current_level = current_level[part]\n",
    "\n",
    "        current_level[parts[-1]] = get_spark_type(data_type)\n",
    "\n",
    "    def build_struct_type(d):\n",
    "        fields = []\n",
    "        for key, value in d.items():\n",
    "            if isinstance(value, dict):\n",
    "                fields.append(\n",
    "                    T.StructField(key, build_struct_type(value), True)\n",
    "                )\n",
    "            else:\n",
    "                fields.append(T.StructField(key, value, True))\n",
    "        return T.StructType(fields)\n",
    "\n",
    "    return build_struct_type(schema_dict)\n",
    "\n",
    "def apply_mapping(df, column_json, mapping):\n",
    "    transformed_columns = [\n",
    "        F.col(f\"{column_json}.{source_col}\")\n",
    "        .cast(get_spark_type(target_type))\n",
    "        .alias(target_col)\n",
    "        for source_col, target_col, target_type in mapping\n",
    "    ]\n",
    "\n",
    "    df = df.select(\"*\", *transformed_columns)\n",
    "\n",
    "    df = df.drop(column_json)\n",
    "    return df"
   ]
  },
  {
   "cell_type": "code",
   "execution_count": 35,
   "id": "adea8148-908c-4f60-bea4-cb7a620bb86d",
   "metadata": {},
   "outputs": [],
   "source": [
    "mapping_schema = [\n",
    "    ('payload.id', 'int'),\n",
    "    ('payload.nome', 'string'),\n",
    "    ('payload.data_nascimento', 'timestamp'),\n",
    "    ('payload.telefones', 'array'),\n",
    "    ('payload.endereco.rua', 'string'),\n",
    "    ('payload.endereco.numero', 'string'),\n",
    "    ('payload.endereco.complemento', 'string'),\n",
    "    ('payload.endereco.bairro', 'string'),\n",
    "    ('payload.endereco.cep', 'string'),\n",
    "    ('payload.endereco.cidade', 'string'),\n",
    "    ('payload.endereco.estado', 'string'),\n",
    "    ('payload.status', 'boolean'),\n",
    "]"
   ]
  },
  {
   "cell_type": "code",
   "execution_count": 63,
   "id": "2b8709f4-3490-4543-88d0-908f5406ef9c",
   "metadata": {},
   "outputs": [
    {
     "name": "stdout",
     "output_type": "stream",
     "text": [
      "StructType([StructField('payload', StructType([StructField('id', IntegerType(), True), StructField('nome', StringType(), True), StructField('data_nascimento', TimestampType(), True), StructField('telefones', ArrayType(StringType(), True), True), StructField('endereco', StructType([StructField('rua', StringType(), True), StructField('numero', StringType(), True), StructField('complemento', StringType(), True), StructField('bairro', StringType(), True), StructField('cep', StringType(), True), StructField('cidade', StringType(), True), StructField('estado', StringType(), True)]), True), StructField('status', BooleanType(), True)]), True)])\n",
      "======================================================================================================================================================\n",
      "{\"fields\":[{\"metadata\":{},\"name\":\"payload\",\"nullable\":true,\"type\":{\"fields\":[{\"metadata\":{},\"name\":\"id\",\"nullable\":true,\"type\":\"integer\"},{\"metadata\":{},\"name\":\"nome\",\"nullable\":true,\"type\":\"string\"},{\"metadata\":{},\"name\":\"data_nascimento\",\"nullable\":true,\"type\":\"timestamp\"},{\"metadata\":{},\"name\":\"telefones\",\"nullable\":true,\"type\":{\"containsNull\":true,\"elementType\":\"string\",\"type\":\"array\"}},{\"metadata\":{},\"name\":\"endereco\",\"nullable\":true,\"type\":{\"fields\":[{\"metadata\":{},\"name\":\"rua\",\"nullable\":true,\"type\":\"string\"},{\"metadata\":{},\"name\":\"numero\",\"nullable\":true,\"type\":\"string\"},{\"metadata\":{},\"name\":\"complemento\",\"nullable\":true,\"type\":\"string\"},{\"metadata\":{},\"name\":\"bairro\",\"nullable\":true,\"type\":\"string\"},{\"metadata\":{},\"name\":\"cep\",\"nullable\":true,\"type\":\"string\"},{\"metadata\":{},\"name\":\"cidade\",\"nullable\":true,\"type\":\"string\"},{\"metadata\":{},\"name\":\"estado\",\"nullable\":true,\"type\":\"string\"}],\"type\":\"struct\"}},{\"metadata\":{},\"name\":\"status\",\"nullable\":true,\"type\":\"boolean\"}],\"type\":\"struct\"}}],\"type\":\"struct\"}\n"
     ]
    }
   ],
   "source": [
    "schema = create_schema(mapping_schema)\n",
    "print(schema)\n",
    "print(\"=\"*150)\n",
    "print(schema.json())\n"
   ]
  },
  {
   "cell_type": "code",
   "execution_count": 51,
   "id": "b8ed730f-34ed-4432-b317-d1138f086831",
   "metadata": {},
   "outputs": [],
   "source": [
    "from pyspark.sql import SparkSession\n",
    "from datetime import datetime, timedelta\n",
    "import random\n",
    "import json"
   ]
  },
  {
   "cell_type": "code",
   "execution_count": 52,
   "id": "33b0f371-0969-4f0b-8084-2d924e7ee0e1",
   "metadata": {},
   "outputs": [],
   "source": [
    "spark = SparkSession.builder.appName(\"DataFrameComJson\").getOrCreate()\n",
    "\n",
    "schema = T.StructType([\n",
    "    T.StructField(\"id\", T.IntegerType(), nullable=False),\n",
    "    T.StructField(\"data_processamento\", T.TimestampType(), nullable=False),\n",
    "    T.StructField(\"obj_json\", T.StringType(), nullable=False)\n",
    "])\n",
    "\n",
    "# Função para gerar um JSON com estrutura específica\n",
    "def gerar_payload_json(id):\n",
    "    payload = {\n",
    "        \"payload\": {\n",
    "            \"id\": id,\n",
    "            \"nome\": random.choice([\"David\", \"Ana\", \"Carlos\", \"Beatriz\"]),\n",
    "            \"data_nascimento\": (datetime.now() - timedelta(days=random.randint(5000, 10000))).strftime(\"%Y-%m-%d %H:%M:%S\"),\n",
    "            \"telefones\": [{\"numero\": f\"{random.randint(1000000000, 9999999999)}\"}],\n",
    "            \"status\": random.choice([\"ativo\", \"inativo\"]),\n",
    "            \"endereco\": {\n",
    "                \"rua\": \"Rua Exemplo\",\n",
    "                \"numero\": random.randint(1, 500),\n",
    "                \"complemento\": \"casa\",\n",
    "                \"bairro\": \"Jardim Exemplo\",\n",
    "                \"cep\": f\"{random.randint(1000000, 9999999)}\",\n",
    "                \"cidade\": \"São Paulo\",\n",
    "                \"estado\": \"São Paulo\"\n",
    "            }\n",
    "        }\n",
    "    }\n",
    "    return json.dumps(payload)\n",
    "\n",
    "# Gerar dados para o DataFrame\n",
    "data = [\n",
    "    (\n",
    "        i,\n",
    "        datetime.now() - timedelta(days=random.randint(0, 30)),\n",
    "        gerar_payload_json(i)\n",
    "    )\n",
    "    for i in range(1, 51)\n",
    "]\n",
    "\n",
    "# Criar o DataFrame\n",
    "df = spark.createDataFrame(data, schema=schema)"
   ]
  },
  {
   "cell_type": "code",
   "execution_count": 55,
   "id": "ea380e0e-ac06-49c1-8d6d-4d3b75cfc43a",
   "metadata": {},
   "outputs": [
    {
     "name": "stdout",
     "output_type": "stream",
     "text": [
      "root\n",
      " |-- id: integer (nullable = false)\n",
      " |-- data_processamento: timestamp (nullable = false)\n",
      " |-- obj_json: string (nullable = false)\n",
      "\n"
     ]
    }
   ],
   "source": [
    "df.printSchema()"
   ]
  },
  {
   "cell_type": "code",
   "execution_count": 56,
   "id": "2c626601-1bb7-47ad-9f60-218f502526fe",
   "metadata": {},
   "outputs": [
    {
     "data": {
      "text/plain": [
       "50"
      ]
     },
     "execution_count": 56,
     "metadata": {},
     "output_type": "execute_result"
    }
   ],
   "source": [
    "df.count()"
   ]
  },
  {
   "cell_type": "code",
   "execution_count": 54,
   "id": "757fd0ee-173b-4030-8f94-835f4ea9091f",
   "metadata": {},
   "outputs": [
    {
     "name": "stdout",
     "output_type": "stream",
     "text": [
      "+---+--------------------------+---------------------------------------------------------------------------------------------------------------------------------------------------------------------------------------------------------------------------------------------------------------------------------------------------------------------------------+\n",
      "|id |data_processamento        |obj_json                                                                                                                                                                                                                                                                                                                         |\n",
      "+---+--------------------------+---------------------------------------------------------------------------------------------------------------------------------------------------------------------------------------------------------------------------------------------------------------------------------------------------------------------------------+\n",
      "|1  |2024-10-16 01:39:03.387747|{\"payload\": {\"id\": 1, \"nome\": \"Carlos\", \"data_nascimento\": \"1997-08-13 01:39:03\", \"telefones\": [{\"numero\": \"7048933861\"}], \"status\": \"inativo\", \"endereco\": {\"rua\": \"Rua Exemplo\", \"numero\": 205, \"complemento\": \"casa\", \"bairro\": \"Jardim Exemplo\", \"cep\": \"3314393\", \"cidade\": \"S\\u00e3o Paulo\", \"estado\": \"S\\u00e3o Paulo\"}}} |\n",
      "|2  |2024-10-22 01:39:03.387842|{\"payload\": {\"id\": 2, \"nome\": \"Ana\", \"data_nascimento\": \"2009-08-02 01:39:03\", \"telefones\": [{\"numero\": \"9658483627\"}], \"status\": \"ativo\", \"endereco\": {\"rua\": \"Rua Exemplo\", \"numero\": 409, \"complemento\": \"casa\", \"bairro\": \"Jardim Exemplo\", \"cep\": \"4333378\", \"cidade\": \"S\\u00e3o Paulo\", \"estado\": \"S\\u00e3o Paulo\"}}}      |\n",
      "|3  |2024-10-07 01:39:03.387872|{\"payload\": {\"id\": 3, \"nome\": \"Beatriz\", \"data_nascimento\": \"2003-04-06 01:39:03\", \"telefones\": [{\"numero\": \"6581642517\"}], \"status\": \"inativo\", \"endereco\": {\"rua\": \"Rua Exemplo\", \"numero\": 325, \"complemento\": \"casa\", \"bairro\": \"Jardim Exemplo\", \"cep\": \"5002368\", \"cidade\": \"S\\u00e3o Paulo\", \"estado\": \"S\\u00e3o Paulo\"}}}|\n",
      "|4  |2024-10-14 01:39:03.38789 |{\"payload\": {\"id\": 4, \"nome\": \"Ana\", \"data_nascimento\": \"2005-06-11 01:39:03\", \"telefones\": [{\"numero\": \"9995854329\"}], \"status\": \"ativo\", \"endereco\": {\"rua\": \"Rua Exemplo\", \"numero\": 66, \"complemento\": \"casa\", \"bairro\": \"Jardim Exemplo\", \"cep\": \"2441039\", \"cidade\": \"S\\u00e3o Paulo\", \"estado\": \"S\\u00e3o Paulo\"}}}       |\n",
      "|5  |2024-10-24 01:39:03.387907|{\"payload\": {\"id\": 5, \"nome\": \"David\", \"data_nascimento\": \"2007-07-20 01:39:03\", \"telefones\": [{\"numero\": \"9737152012\"}], \"status\": \"inativo\", \"endereco\": {\"rua\": \"Rua Exemplo\", \"numero\": 114, \"complemento\": \"casa\", \"bairro\": \"Jardim Exemplo\", \"cep\": \"1213944\", \"cidade\": \"S\\u00e3o Paulo\", \"estado\": \"S\\u00e3o Paulo\"}}}  |\n",
      "+---+--------------------------+---------------------------------------------------------------------------------------------------------------------------------------------------------------------------------------------------------------------------------------------------------------------------------------------------------------------------------+\n",
      "only showing top 5 rows\n",
      "\n"
     ]
    }
   ],
   "source": [
    "df.show(5, truncate=False)"
   ]
  },
  {
   "cell_type": "code",
   "execution_count": 66,
   "id": "9a553986-6df8-4bc9-a845-4cac54e67174",
   "metadata": {},
   "outputs": [],
   "source": [
    "df_unboxing = df.withColumn(\"obj_json\", F.from_json(\"obj_json\", schema))"
   ]
  },
  {
   "cell_type": "code",
   "execution_count": 67,
   "id": "63b2861e-b00a-43a8-8487-46960312ceba",
   "metadata": {},
   "outputs": [
    {
     "name": "stdout",
     "output_type": "stream",
     "text": [
      "root\n",
      " |-- id: integer (nullable = false)\n",
      " |-- data_processamento: timestamp (nullable = false)\n",
      " |-- obj_json: struct (nullable = true)\n",
      " |    |-- payload: struct (nullable = true)\n",
      " |    |    |-- id: integer (nullable = true)\n",
      " |    |    |-- nome: string (nullable = true)\n",
      " |    |    |-- data_nascimento: timestamp (nullable = true)\n",
      " |    |    |-- telefones: array (nullable = true)\n",
      " |    |    |    |-- element: string (containsNull = true)\n",
      " |    |    |-- endereco: struct (nullable = true)\n",
      " |    |    |    |-- rua: string (nullable = true)\n",
      " |    |    |    |-- numero: string (nullable = true)\n",
      " |    |    |    |-- complemento: string (nullable = true)\n",
      " |    |    |    |-- bairro: string (nullable = true)\n",
      " |    |    |    |-- cep: string (nullable = true)\n",
      " |    |    |    |-- cidade: string (nullable = true)\n",
      " |    |    |    |-- estado: string (nullable = true)\n",
      " |    |    |-- status: boolean (nullable = true)\n",
      "\n"
     ]
    }
   ],
   "source": [
    "df_unboxing.printSchema()"
   ]
  },
  {
   "cell_type": "code",
   "execution_count": 68,
   "id": "657122f7-5578-4acf-9996-e8773d7c5c1e",
   "metadata": {},
   "outputs": [
    {
     "name": "stdout",
     "output_type": "stream",
     "text": [
      "+---+--------------------------+---------------------------------------------------------------------------------------------------------------------------------------------+\n",
      "|id |data_processamento        |obj_json                                                                                                                                     |\n",
      "+---+--------------------------+---------------------------------------------------------------------------------------------------------------------------------------------+\n",
      "|1  |2024-10-16 01:39:03.387747|{{1, Carlos, 1997-08-13 01:39:03, [{\"numero\":\"7048933861\"}], {Rua Exemplo, 205, casa, Jardim Exemplo, 3314393, São Paulo, São Paulo}, NULL}} |\n",
      "|2  |2024-10-22 01:39:03.387842|{{2, Ana, 2009-08-02 01:39:03, [{\"numero\":\"9658483627\"}], {Rua Exemplo, 409, casa, Jardim Exemplo, 4333378, São Paulo, São Paulo}, NULL}}    |\n",
      "|3  |2024-10-07 01:39:03.387872|{{3, Beatriz, 2003-04-06 01:39:03, [{\"numero\":\"6581642517\"}], {Rua Exemplo, 325, casa, Jardim Exemplo, 5002368, São Paulo, São Paulo}, NULL}}|\n",
      "|4  |2024-10-14 01:39:03.38789 |{{4, Ana, 2005-06-11 01:39:03, [{\"numero\":\"9995854329\"}], {Rua Exemplo, 66, casa, Jardim Exemplo, 2441039, São Paulo, São Paulo}, NULL}}     |\n",
      "|5  |2024-10-24 01:39:03.387907|{{5, David, 2007-07-20 01:39:03, [{\"numero\":\"9737152012\"}], {Rua Exemplo, 114, casa, Jardim Exemplo, 1213944, São Paulo, São Paulo}, NULL}}  |\n",
      "+---+--------------------------+---------------------------------------------------------------------------------------------------------------------------------------------+\n",
      "only showing top 5 rows\n",
      "\n"
     ]
    }
   ],
   "source": [
    "df_unboxing.show(5, truncate=False)"
   ]
  },
  {
   "cell_type": "code",
   "execution_count": 77,
   "id": "254cc339-14f6-4b4b-98bf-ba73f7adcca5",
   "metadata": {},
   "outputs": [],
   "source": [
    "mapping_cast = [\n",
    "    ('payload.id', 'id_cliente', 'string'),\n",
    "    ('payload.nome', 'nome_cliente', 'string'),\n",
    "    ('payload.data_nascimento', 'data_nascimento_cliente', 'timestamp'),\n",
    "    ('payload.telefones', 'lista_contatos', 'array'),\n",
    "    ('payload.endereco.rua', 'rua_cliente', 'string'),\n",
    "    ('payload.endereco.numero', 'numero_residencia_cliente', 'string'),\n",
    "    ('payload.endereco.complemento', 'complemento_residencia_cliente', 'string'),\n",
    "    ('payload.endereco.bairro', 'bairro_residencia_cliente', 'string'),\n",
    "    ('payload.endereco.cep', 'cep_residencia_cliente', 'string'),\n",
    "    ('payload.endereco.cidade', 'cidade_cliente', 'string'),\n",
    "    ('payload.endereco.estado', 'estado_cliente', 'string'),\n",
    "    ('payload.status', 'status', 'boolean'),\n",
    "]"
   ]
  },
  {
   "cell_type": "code",
   "execution_count": 78,
   "id": "9483e834-f68d-4c99-ad4c-0e0083375d0e",
   "metadata": {},
   "outputs": [],
   "source": [
    "df_apply_mapping = (\n",
    "    df_unboxing.transform(\n",
    "        apply_mapping, column_json=\"obj_json\", mapping=mapping_cast\n",
    "    )\n",
    ")"
   ]
  },
  {
   "cell_type": "code",
   "execution_count": 80,
   "id": "84050682-8b29-424d-8aee-158f4d9a439f",
   "metadata": {},
   "outputs": [
    {
     "name": "stdout",
     "output_type": "stream",
     "text": [
      "root\n",
      " |-- id: integer (nullable = false)\n",
      " |-- data_processamento: timestamp (nullable = false)\n",
      " |-- id_cliente: string (nullable = true)\n",
      " |-- nome_cliente: string (nullable = true)\n",
      " |-- data_nascimento_cliente: timestamp (nullable = true)\n",
      " |-- lista_contatos: array (nullable = true)\n",
      " |    |-- element: string (containsNull = true)\n",
      " |-- rua_cliente: string (nullable = true)\n",
      " |-- numero_residencia_cliente: string (nullable = true)\n",
      " |-- complemento_residencia_cliente: string (nullable = true)\n",
      " |-- bairro_residencia_cliente: string (nullable = true)\n",
      " |-- cep_residencia_cliente: string (nullable = true)\n",
      " |-- cidade_cliente: string (nullable = true)\n",
      " |-- estado_cliente: string (nullable = true)\n",
      " |-- status: boolean (nullable = true)\n",
      "\n"
     ]
    }
   ],
   "source": [
    "df_apply_mapping.printSchema()"
   ]
  },
  {
   "cell_type": "code",
   "execution_count": 81,
   "id": "2852a4f2-7836-4174-88a7-3890c905b94a",
   "metadata": {},
   "outputs": [
    {
     "name": "stdout",
     "output_type": "stream",
     "text": [
      "+---+--------------------------+----------+------------+-----------------------+-------------------------+-----------+-------------------------+------------------------------+-------------------------+----------------------+--------------+--------------+------+\n",
      "|id |data_processamento        |id_cliente|nome_cliente|data_nascimento_cliente|lista_contatos           |rua_cliente|numero_residencia_cliente|complemento_residencia_cliente|bairro_residencia_cliente|cep_residencia_cliente|cidade_cliente|estado_cliente|status|\n",
      "+---+--------------------------+----------+------------+-----------------------+-------------------------+-----------+-------------------------+------------------------------+-------------------------+----------------------+--------------+--------------+------+\n",
      "|1  |2024-10-16 01:39:03.387747|1         |Carlos      |1997-08-13 01:39:03    |[{\"numero\":\"7048933861\"}]|Rua Exemplo|205                      |casa                          |Jardim Exemplo           |3314393               |São Paulo     |São Paulo     |NULL  |\n",
      "|2  |2024-10-22 01:39:03.387842|2         |Ana         |2009-08-02 01:39:03    |[{\"numero\":\"9658483627\"}]|Rua Exemplo|409                      |casa                          |Jardim Exemplo           |4333378               |São Paulo     |São Paulo     |NULL  |\n",
      "|3  |2024-10-07 01:39:03.387872|3         |Beatriz     |2003-04-06 01:39:03    |[{\"numero\":\"6581642517\"}]|Rua Exemplo|325                      |casa                          |Jardim Exemplo           |5002368               |São Paulo     |São Paulo     |NULL  |\n",
      "|4  |2024-10-14 01:39:03.38789 |4         |Ana         |2005-06-11 01:39:03    |[{\"numero\":\"9995854329\"}]|Rua Exemplo|66                       |casa                          |Jardim Exemplo           |2441039               |São Paulo     |São Paulo     |NULL  |\n",
      "|5  |2024-10-24 01:39:03.387907|5         |David       |2007-07-20 01:39:03    |[{\"numero\":\"9737152012\"}]|Rua Exemplo|114                      |casa                          |Jardim Exemplo           |1213944               |São Paulo     |São Paulo     |NULL  |\n",
      "+---+--------------------------+----------+------------+-----------------------+-------------------------+-----------+-------------------------+------------------------------+-------------------------+----------------------+--------------+--------------+------+\n",
      "only showing top 5 rows\n",
      "\n"
     ]
    }
   ],
   "source": [
    "df_apply_mapping.show(5, truncate=False)"
   ]
  }
 ],
 "metadata": {
  "kernelspec": {
   "display_name": "Python 3 (ipykernel)",
   "language": "python",
   "name": "python3"
  },
  "language_info": {
   "codemirror_mode": {
    "name": "ipython",
    "version": 3
   },
   "file_extension": ".py",
   "mimetype": "text/x-python",
   "name": "python",
   "nbconvert_exporter": "python",
   "pygments_lexer": "ipython3",
   "version": "3.11.6"
  }
 },
 "nbformat": 4,
 "nbformat_minor": 5
}
